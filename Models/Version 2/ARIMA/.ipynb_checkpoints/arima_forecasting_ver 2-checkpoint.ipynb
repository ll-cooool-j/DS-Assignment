{
 "cells": [
  {
   "cell_type": "markdown",
   "metadata": {
    "colab_type": "text",
    "id": "view-in-github"
   },
   "source": [
    "<a href=\"https://colab.research.google.com/github/ll-cooool-j/DS-Assignment/blob/main/arima_forecasting_ver%202.ipynb\" target=\"_parent\"><img src=\"https://colab.research.google.com/assets/colab-badge.svg\" alt=\"Open In Colab\"/></a>"
   ]
  },
  {
   "cell_type": "code",
   "execution_count": 12,
   "metadata": {
    "colab": {
     "base_uri": "https://localhost:8080/",
     "height": 459
    },
    "id": "t1dDkB8mQ0i1",
    "outputId": "5f8a6725-ad20-4233-acab-95b68bc0261a"
   },
   "outputs": [
    {
     "name": "stderr",
     "output_type": "stream",
     "text": [
      "<ipython-input-12-b237078aa9ac>:2: FutureWarning: The pandas.datetime class is deprecated and will be removed from pandas in a future version. Import from datetime module instead.\n",
      "  from pandas import datetime\n"
     ]
    },
    {
     "name": "stdout",
     "output_type": "stream",
     "text": [
      "         Infected\n",
      "Date             \n",
      "0-07-01   4665433\n",
      "0-07-02   4585028\n",
      "0-07-03   4671221\n",
      "0-07-04   4664489\n",
      "0-07-05   4725279\n"
     ]
    },
    {
     "data": {
      "image/png": "[encoded data removed]",
      "text/plain": [
       "<Figure size 432x288 with 1 Axes>"
      ]
     },
     "metadata": {
      "needs_background": "light"
     },
     "output_type": "display_data"
    }
   ],
   "source": [
    "from pandas import read_csv\n",
    "from pandas import datetime\n",
    "from matplotlib import pyplot\n",
    " \n",
    "series = read_csv('https://raw.githubusercontent.com/ll-cooool-j/DS-Assignment/main/Datasets/Global%2C%20only%20Date%20and%20Infected%2C%20CSV%20formatted.csv', header=0, parse_dates=[0], index_col=0)\n",
    "print(series.head())\n",
    "series.plot()\n",
    "pyplot.show()"
   ]
  },
  {
   "cell_type": "code",
   "execution_count": 2,
   "metadata": {
    "colab": {
     "base_uri": "https://localhost:8080/",
     "height": 318
    },
    "id": "yHhE8hA3Q0i2",
    "outputId": "1738e708-b52a-4829-a040-f08c57796ed6"
   },
   "outputs": [
    {
     "name": "stderr",
     "output_type": "stream",
     "text": [
      "<ipython-input-2-35562bad1226>:3: FutureWarning: The pandas.datetime class is deprecated and will be removed from pandas in a future version. Import from datetime module instead.\n",
      "  from pandas import datetime\n"
     ]
    },
    {
     "data": {
      "image/png": "[encoded data removed]",
      "text/plain": [
       "<Figure size 432x288 with 1 Axes>"
      ]
     },
     "metadata": {
      "needs_background": "light"
     },
     "output_type": "display_data"
    }
   ],
   "source": [
    "import pandas as pd\n",
    "from pandas import read_csv\n",
    "from pandas import datetime\n",
    "from matplotlib import pyplot\n",
    "from pandas.plotting import autocorrelation_plot\n",
    " \n",
    "series = read_csv('https://raw.githubusercontent.com/ll-cooool-j/DS-Assignment/main/Datasets/Global%2C%20only%20Date%20and%20Infected%2C%20CSV%20formatted.csv', header=0, parse_dates=[0], index_col=0)\n",
    "autocorrelation_plot(series['Infected'])\n",
    "pyplot.show()"
   ]
  },
  {
   "cell_type": "markdown",
   "metadata": {
    "id": "9LIgR6MkQ0i3"
   },
   "source": [
    "1/ This code below print the summary of the fit model\n",
    "\n",
    "This summarizes the coefficient values used as well as the skill of the fit on the on the in-sample observations.\n",
    "\n",
    "2/ This aslo help us get a line plot of the residual errors, suggesting that there may still be some trend information not captured by the model.\n",
    "\n",
    "3/ Finally, we get a density plot of the residual error values, suggesting the errors are Gaussian, but may not be centered on zero.\n",
    "\n"
   ]
  },
  {
   "cell_type": "code",
   "execution_count": 6,
   "metadata": {
    "colab": {
     "base_uri": "https://localhost:8080/",
     "height": 1000
    },
    "id": "dWdLOUhtQ0i3",
    "outputId": "122f5258-d8a5-4dc5-e28f-7b4c6cc3067c"
   },
   "outputs": [
    {
     "name": "stderr",
     "output_type": "stream",
     "text": [
      "C:\\Users\\Admin\\anaconda3\\lib\\site-packages\\statsmodels\\tsa\\arima_model.py:472: FutureWarning: \n",
      "statsmodels.tsa.arima_model.ARMA and statsmodels.tsa.arima_model.ARIMA have\n",
      "been deprecated in favor of statsmodels.tsa.arima.model.ARIMA (note the .\n",
      "between arima and model) and\n",
      "statsmodels.tsa.SARIMAX. These will be removed after the 0.12 release.\n",
      "\n",
      "statsmodels.tsa.arima.model.ARIMA makes use of the statespace framework and\n",
      "is both well tested and maintained.\n",
      "\n",
      "To silence this warning and continue using ARMA and ARIMA until they are\n",
      "removed, use:\n",
      "\n",
      "import warnings\n",
      "warnings.filterwarnings('ignore', 'statsmodels.tsa.arima_model.ARMA',\n",
      "                        FutureWarning)\n",
      "warnings.filterwarnings('ignore', 'statsmodels.tsa.arima_model.ARIMA',\n",
      "                        FutureWarning)\n",
      "\n",
      "  warnings.warn(ARIMA_DEPRECATION_WARN, FutureWarning)\n"
     ]
    },
    {
     "name": "stdout",
     "output_type": "stream",
     "text": [
      "                             ARIMA Model Results                              \n",
      "==============================================================================\n",
      "Dep. Variable:             D.Infected   No. Observations:                  334\n",
      "Model:                ARIMA(10, 1, 0)   Log Likelihood               -4748.159\n",
      "Method:                       css-mle   S.D. of innovations         360975.706\n",
      "Date:                Thu, 08 Jul 2021   AIC                           9520.318\n",
      "Time:                        00:12:23   BIC                           9566.052\n",
      "Sample:                    07-02-2020   HQIC                          9538.552\n",
      "                         - 05-31-2021                                         \n",
      "=====================================================================================\n",
      "                        coef    std err          z      P>|z|      [0.025      0.975]\n",
      "-------------------------------------------------------------------------------------\n",
      "const              1.624e+05    4.1e+04      3.964      0.000    8.21e+04    2.43e+05\n",
      "ar.L1.D.Infected      0.0624      0.055      1.141      0.254      -0.045       0.170\n",
      "ar.L2.D.Infected     -0.0968      0.055     -1.773      0.076      -0.204       0.010\n",
      "ar.L3.D.Infected      0.0636      0.055      1.163      0.245      -0.044       0.171\n",
      "ar.L4.D.Infected      0.1633      0.055      2.987      0.003       0.056       0.270\n",
      "ar.L5.D.Infected      0.0508      0.055      0.922      0.357      -0.057       0.159\n",
      "ar.L6.D.Infected      0.0949      0.055      1.723      0.085      -0.013       0.203\n",
      "ar.L7.D.Infected      0.0489      0.055      0.896      0.370      -0.058       0.156\n",
      "ar.L8.D.Infected      0.0595      0.055      1.091      0.275      -0.047       0.166\n",
      "ar.L9.D.Infected      0.0501      0.054      0.924      0.356      -0.056       0.156\n",
      "ar.L10.D.Infected     0.0301      0.054      0.555      0.579      -0.076       0.136\n",
      "                                    Roots                                     \n",
      "==============================================================================\n",
      "                   Real          Imaginary           Modulus         Frequency\n",
      "------------------------------------------------------------------------------\n",
      "AR.1             1.1100           -0.0000j            1.1100           -0.0000\n",
      "AR.2             0.9921           -0.9552j            1.3772           -0.1220\n",
      "AR.3             0.9921           +0.9552j            1.3772            0.1220\n",
      "AR.4             0.2340           -1.3308j            1.3512           -0.2223\n",
      "AR.5             0.2340           +1.3308j            1.3512            0.2223\n",
      "AR.6            -0.5029           -1.3492j            1.4399           -0.3068\n",
      "AR.7            -0.5029           +1.3492j            1.4399            0.3068\n",
      "AR.8            -1.4330           -0.0000j            1.4330           -0.5000\n",
      "AR.9            -1.3949           -0.9832j            1.7066           -0.4023\n",
      "AR.10           -1.3949           +0.9832j            1.7066            0.4023\n",
      "------------------------------------------------------------------------------\n"
     ]
    },
    {
     "data": {
      "image/png": "[encoded data removed]",
      "text/plain": [
       "<Figure size 432x288 with 1 Axes>"
      ]
     },
     "metadata": {
      "needs_background": "light"
     },
     "output_type": "display_data"
    },
    {
     "data": {
      "image/png": "[encoded data removed]",
      "text/plain": [
       "<Figure size 432x288 with 1 Axes>"
      ]
     },
     "metadata": {
      "needs_background": "light"
     },
     "output_type": "display_data"
    },
    {
     "name": "stdout",
     "output_type": "stream",
     "text": [
      "                  0\n",
      "count  3.340000e+02\n",
      "mean  -2.038317e+03\n",
      "std    3.615433e+05\n",
      "min   -9.839726e+05\n",
      "25%   -6.821934e+04\n",
      "50%   -2.348522e+04\n",
      "75%    3.729419e+04\n",
      "max    6.097136e+06\n"
     ]
    }
   ],
   "source": [
    "# fit an ARIMA model and plot residual errors\n",
    "import pandas as pd\n",
    "from datetime import datetime\n",
    "from pandas import DataFrame\n",
    "from statsmodels.tsa.arima_model import ARIMA\n",
    "from matplotlib import pyplot\n",
    "# load datase\n",
    "series = read_csv('https://raw.githubusercontent.com/ll-cooool-j/DS-Assignment/main/Datasets/Global%2C%20only%20Date%20and%20Infected%2C%20CSV%20formatted.csv', header=0, index_col=0)\n",
    "idx = pd.date_range(\"2020-07-01\", periods=335)\n",
    "series.index = idx.to_period()\n",
    "# fit model\n",
    "model = ARIMA(series, order=(10,1,0))\n",
    "model_fit = model.fit()\n",
    "# summary of fit model\n",
    "print(model_fit.summary())\n",
    "# line plot of residuals\n",
    "residuals = DataFrame(model_fit.resid)\n",
    "residuals.plot()\n",
    "pyplot.show()\n",
    "# density plot of residuals\n",
    "residuals.plot(kind='kde')\n",
    "pyplot.show()\n",
    "# summary stats of residuals\n",
    "print(residuals.describe())"
   ]
  },
  {
   "cell_type": "markdown",
   "metadata": {
    "id": "l8_xwbceQ0i4"
   },
   "source": [
    "Last but not least, we use ARIMA model to forecast the future time steps\n",
    "\n",
    "Below is an example of a rolling forecast with the ARIMA model in Python.\n",
    "\n",
    "It also compares the predicted value and expected value"
   ]
  },
  {
   "cell_type": "code",
   "execution_count": 15,
   "metadata": {
    "colab": {
     "base_uri": "https://localhost:8080/",
     "height": 1000
    },
    "id": "wHDT0mIuQ0i5",
    "outputId": "a32b063d-e79d-4836-a74d-082a19ec8b86"
   },
   "outputs": [
    {
     "name": "stderr",
     "output_type": "stream",
     "text": [
      "<ipython-input-15-ec8d18f104dd>:3: FutureWarning: The pandas.datetime class is deprecated and will be removed from pandas in a future version. Import from datetime module instead.\n",
      "  from pandas import datetime\n",
      "C:\\Users\\Admin\\anaconda3\\lib\\site-packages\\statsmodels\\tsa\\arima_model.py:472: FutureWarning: \n",
      "statsmodels.tsa.arima_model.ARMA and statsmodels.tsa.arima_model.ARIMA have\n",
      "been deprecated in favor of statsmodels.tsa.arima.model.ARIMA (note the .\n",
      "between arima and model) and\n",
      "statsmodels.tsa.SARIMAX. These will be removed after the 0.12 release.\n",
      "\n",
      "statsmodels.tsa.arima.model.ARIMA makes use of the statespace framework and\n",
      "is both well tested and maintained.\n",
      "\n",
      "To silence this warning and continue using ARMA and ARIMA until they are\n",
      "removed, use:\n",
      "\n",
      "import warnings\n",
      "warnings.filterwarnings('ignore', 'statsmodels.tsa.arima_model.ARMA',\n",
      "                        FutureWarning)\n",
      "warnings.filterwarnings('ignore', 'statsmodels.tsa.arima_model.ARIMA',\n",
      "                        FutureWarning)\n",
      "\n",
      "  warnings.warn(ARIMA_DEPRECATION_WARN, FutureWarning)\n"
     ]
    },
    {
     "name": "stdout",
     "output_type": "stream",
     "text": [
      "predicted=51723302.827890, expected=51816229.000000\n",
      "predicted=51993839.684166, expected=52085584.000000\n",
      "predicted=52282950.330003, expected=52219637.000000\n",
      "predicted=52417872.632561, expected=52364998.000000\n",
      "predicted=52574042.878084, expected=52586110.000000\n",
      "predicted=52794995.091076, expected=52873692.000000\n",
      "predicted=53061784.741785, expected=53228352.000000\n",
      "predicted=53420836.838383, expected=53531259.000000\n",
      "predicted=53720625.420382, expected=53685760.000000\n",
      "predicted=53885649.094626, expected=53883147.000000\n",
      "predicted=54109994.393359, expected=54016912.000000\n",
      "predicted=54225859.257970, expected=54238529.000000\n",
      "predicted=54444128.836850, expected=54424199.000000\n",
      "predicted=54620171.182681, expected=54853961.000000\n",
      "predicted=55057218.696666, expected=55134410.000000\n",
      "predicted=55313835.311233, expected=55401224.000000\n",
      "predicted=55596180.940539, expected=55552240.000000\n",
      "predicted=55770189.882930, expected=55764111.000000\n",
      "predicted=55978841.854798, expected=56043461.000000\n",
      "predicted=56262565.571838, expected=56399535.000000\n",
      "predicted=56596745.202432, expected=56758235.000000\n",
      "predicted=56962596.420363, expected=57095784.000000\n",
      "predicted=57308248.241611, expected=57352911.000000\n",
      "predicted=57579515.333085, expected=57449251.000000\n",
      "predicted=57675923.688421, expected=57596595.000000\n",
      "predicted=57842174.914360, expected=57831538.000000\n",
      "predicted=58060259.151407, expected=58194257.000000\n",
      "predicted=58401948.829026, expected=58443835.000000\n",
      "predicted=58635440.343304, expected=58692564.000000\n",
      "predicted=58903242.281165, expected=58924054.000000\n",
      "predicted=59144769.027594, expected=59102268.000000\n",
      "predicted=59307245.118113, expected=59085910.000000\n",
      "predicted=59288099.359282, expected=59234498.000000\n",
      "predicted=59458021.009531, expected=59527791.000000\n",
      "predicted=59729596.642263, expected=59702374.000000\n",
      "predicted=59859656.660621, expected=59880772.000000\n",
      "predicted=60068747.539208, expected=59981815.000000\n",
      "predicted=60165466.167531, expected=59953161.000000\n",
      "predicted=60129577.080784, expected=59979392.000000\n",
      "predicted=60169554.292479, expected=60115847.000000\n",
      "predicted=60281256.117469, expected=60228683.000000\n",
      "predicted=60366024.669311, expected=60408429.000000\n",
      "predicted=60558223.478326, expected=60530309.000000\n",
      "predicted=60672123.406260, expected=60591732.000000\n",
      "predicted=60733749.099260, expected=60560307.000000\n",
      "predicted=60711268.150306, expected=60542331.000000\n",
      "predicted=60691779.741440, expected=60515550.000000\n",
      "predicted=60655614.127504, expected=60614205.000000\n",
      "predicted=60748174.429545, expected=60635665.000000\n",
      "predicted=60746920.059504, expected=60675274.000000\n",
      "predicted=60789857.668817, expected=60648551.000000\n",
      "predicted=60764973.483699, expected=60519695.000000\n",
      "predicted=60621444.567918, expected=60304056.000000\n",
      "predicted=60411189.146103, expected=60169263.000000\n",
      "predicted=60268786.495499, expected=60129285.000000\n",
      "predicted=60206088.889855, expected=59759488.000000\n",
      "predicted=59784884.990554, expected=59757710.000000\n",
      "predicted=59840781.471745, expected=59707614.000000\n",
      "predicted=59731159.751665, expected=59672422.000000\n",
      "predicted=59670309.743164, expected=59490318.000000\n",
      "predicted=59516449.048350, expected=59432250.000000\n",
      "predicted=59461487.135596, expected=59432285.000000\n",
      "predicted=59469606.815640, expected=59276607.000000\n",
      "predicted=59281228.412501, expected=59209970.000000\n",
      "predicted=59257753.511388, expected=59172933.000000\n",
      "predicted=59211493.498520, expected=59066308.000000\n",
      "predicted=59093182.643383, expected=58907332.000000\n",
      "Test RMSE: 131058.776\n"
     ]
    },
    {
     "data": {
      "image/png": "[encoded data removed]",
      "text/plain": [
       "<Figure size 432x288 with 1 Axes>"
      ]
     },
     "metadata": {
      "needs_background": "light"
     },
     "output_type": "display_data"
    }
   ],
   "source": [
    "# evaluate an ARIMA model using a walk-forward validation\n",
    "from pandas import read_csv\n",
    "from pandas import datetime\n",
    "from matplotlib import pyplot\n",
    "from statsmodels.tsa.arima_model import ARIMA\n",
    "from sklearn.metrics import mean_squared_error\n",
    "from math import sqrt\n",
    "import numpy as np\n",
    "import itertools\n",
    "from itertools import chain\n",
    "# load dataset\n",
    "def parser(x):\n",
    "\treturn datetime.strptime('202'+x, '%Y-%m-%d')\n",
    "se_ries = read_csv('https://raw.githubusercontent.com/ll-cooool-j/DS-Assignment/main/Datasets/Global%2C%20only%20Date%20and%20Infected%2C%20CSV%20formatted.csv', header=0, index_col=0, parse_dates=True, squeeze=True, date_parser=parser)\n",
    "se_ries.head()\n",
    "month_index = se_ries.index.to_period('M')\n",
    "# split into train and test sets\n",
    "X = se_ries.values\n",
    "size = int(len(X) * 0.8)\n",
    "train, test = X[0:size], X[size:len(X)]\n",
    "history = [x for x in train]\n",
    "predictions = list()\n",
    "# walk-forward validation\n",
    "for t in range(len(test)):\n",
    "\tmodel = ARIMA(history, order=(10,1,0))\n",
    "\tmodel_fit = model.fit()\n",
    "\toutput = model_fit.forecast()\n",
    "\tyhat = output[0]\n",
    "\tpredictions.append(yhat)\n",
    "\tobs = test[t]\n",
    "\thistory.append(obs)\n",
    "\tprint('predicted=%f, expected=%f' % (yhat, obs))\n",
    "# evaluate forecasts\n",
    "rmse = sqrt(mean_squared_error(test, predictions))\n",
    "print('Test RMSE: %.3f' % rmse)\n",
    "# plot forecasts against actual outcomes\n",
    "pyplot.plot(test)\n",
    "pyplot.plot(predictions, color='red')\n",
    "pyplot.show()"
   ]
  }
 ],
 "metadata": {
  "colab": {
   "include_colab_link": true,
   "name": "Copy of arima_forecasting.ipynb",
   "provenance": []
  },
  "interpreter": {
   "hash": "3410afedb74081d81603511028deadddc25ba0f01c14e0cb891e2c2473f81884"
  },
  "kernelspec": {
   "display_name": "Python 3",
   "language": "python",
   "name": "python3"
  },
  "language_info": {
   "codemirror_mode": {
    "name": "ipython",
    "version": 3
   },
   "file_extension": ".py",
   "mimetype": "text/x-python",
   "name": "python",
   "nbconvert_exporter": "python",
   "pygments_lexer": "ipython3",
   "version": "3.8.8"
  }
 },
 "nbformat": 4,
 "nbformat_minor": 1
}
