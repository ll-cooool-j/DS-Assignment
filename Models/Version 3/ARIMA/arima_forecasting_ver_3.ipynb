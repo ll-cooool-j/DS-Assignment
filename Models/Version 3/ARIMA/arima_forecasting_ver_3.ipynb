{
  "nbformat": 4,
  "nbformat_minor": 0,
  "metadata": {
    "colab": {
      "name": "arima_forecasting_ver 3.ipynb",
      "provenance": [],
      "collapsed_sections": []
    },
    "interpreter": {
      "hash": "3410afedb74081d81603511028deadddc25ba0f01c14e0cb891e2c2473f81884"
    },
    "kernelspec": {
      "display_name": "Python 3",
      "language": "python",
      "name": "python3"
    },
    "language_info": {
      "codemirror_mode": {
        "name": "ipython",
        "version": 3
      },
      "file_extension": ".py",
      "mimetype": "text/x-python",
      "name": "python",
      "nbconvert_exporter": "python",
      "pygments_lexer": "ipython3",
      "version": "3.8.8"
    }
  },
  "cells": [
    {
      "cell_type": "markdown",
      "metadata": {
        "id": "view-in-github"
      },
      "source": [
        "<a href=\"https://colab.research.google.com/github/ll-cooool-j/DS-Assignment/blob/main/arima_forecasting_ver%202.ipynb\" target=\"_parent\"><img src=\"https://colab.research.google.com/assets/colab-badge.svg\" alt=\"Open In Colab\"/></a>"
      ]
    },
    {
      "cell_type": "code",
      "metadata": {
        "colab": {
          "base_uri": "https://localhost:8080/",
          "height": 424
        },
        "id": "t1dDkB8mQ0i1",
        "outputId": "ae7ed03d-25c8-459b-b8e9-f168d61f245e"
      },
      "source": [
        "from pandas import read_csv\n",
        "from pandas import datetime\n",
        "from matplotlib import pyplot\n",
        "\n",
        "def parser(x):\n",
        "\treturn datetime.strptime('202'+x, '%Y-%m-%d')\n",
        " \n",
        "series = read_csv('https://raw.githubusercontent.com/ll-cooool-j/DS-Assignment/main/Datasets/Datasets%20for%20ARIMA%20(Only%20Date%20%2B%20Infected)/Global%20(Date%20%2B%20Infected).csv', header=0, parse_dates=[0], index_col=0, squeeze=True, date_parser=parser)\n",
        "print(series.head())\n",
        "series.plot()\n",
        "pyplot.show()"
      ],
      "execution_count": 7,
      "outputs": [
        {
          "output_type": "stream",
          "text": [
            "Date\n",
            "2020-07-01    4665433\n",
            "2020-07-02    4585028\n",
            "2020-07-03    4671221\n",
            "2020-07-04    4664489\n",
            "2020-07-05    4725279\n",
            "Name: Infected, dtype: int64\n"
          ],
          "name": "stdout"
        },
        {
          "output_type": "display_data",
          "data": {
            "image/png": "[encoded data removed]",
            "text/plain": [
              "<Figure size 432x288 with 1 Axes>"
            ]
          },
          "metadata": {
            "tags": [],
            "needs_background": "light"
          }
        }
      ]
    },
    {
      "cell_type": "code",
      "metadata": {
        "colab": {
          "base_uri": "https://localhost:8080/"
        },
        "id": "TQaT15DmiPy3",
        "outputId": "46a70337-bce1-4b01-f533-4e274955dc54"
      },
      "source": [
        "series.max()"
      ],
      "execution_count": 12,
      "outputs": [
        {
          "output_type": "execute_result",
          "data": {
            "text/plain": [
              "Infected    60675274.0\n",
              "dtype: float64"
            ]
          },
          "metadata": {
            "tags": []
          },
          "execution_count": 12
        }
      ]
    },
    {
      "cell_type": "code",
      "metadata": {
        "colab": {
          "base_uri": "https://localhost:8080/"
        },
        "id": "L2-2jsKPiU8b",
        "outputId": "0be255e1-beb0-4f22-d016-6c22ea8974b2"
      },
      "source": [
        "series.min()"
      ],
      "execution_count": 13,
      "outputs": [
        {
          "output_type": "execute_result",
          "data": {
            "text/plain": [
              "Infected    4585028.0\n",
              "dtype: float64"
            ]
          },
          "metadata": {
            "tags": []
          },
          "execution_count": 13
        }
      ]
    },
    {
      "cell_type": "code",
      "metadata": {
        "colab": {
          "base_uri": "https://localhost:8080/",
          "height": 283
        },
        "id": "yHhE8hA3Q0i2",
        "outputId": "f15f0946-7244-4d1c-924a-796722b9175e"
      },
      "source": [
        "from matplotlib import pyplot\n",
        "from pandas.plotting import autocorrelation_plot\n",
        "\n",
        "autocorrelation_plot(series['Infected'])\n",
        "pyplot.show()"
      ],
      "execution_count": 9,
      "outputs": [
        {
          "output_type": "display_data",
          "data": {
            "image/png": "[encoded data removed]",
            "text/plain": [
              "<Figure size 432x288 with 1 Axes>"
            ]
          },
          "metadata": {
            "tags": [],
            "needs_background": "light"
          }
        }
      ]
    },
    {
      "cell_type": "code",
      "metadata": {
        "colab": {
          "base_uri": "https://localhost:8080/"
        },
        "id": "0v6w-fiME-yk",
        "outputId": "6e765541-0d0f-4f0d-fbdb-56be16bd6f39"
      },
      "source": [
        "# grid search ARIMA parameters for time series\n",
        "import warnings\n",
        "import pandas as pd\n",
        "from math import sqrt\n",
        "from pandas import read_csv\n",
        "from pandas import datetime\n",
        "from statsmodels.tsa.arima_model import ARIMA\n",
        "from sklearn.metrics import mean_squared_error\n",
        "\n",
        "# evaluate an ARIMA model for a given order (p,d,q)\n",
        "def evaluate_arima_model(X, arima_order):\n",
        "  X = X.astype('float64')\n",
        "  # prepare training dataset\n",
        "  train_size= int(len(X) * 0.2)\n",
        "  point = int(len(X) * 0.8)\n",
        "  train, test = X[0:train_size], X[train_size:]\n",
        "  history = [x for x in train]\n",
        "\n",
        "  # make predictions\n",
        "  predictions = list()\n",
        "  for t in range(len(test)):\n",
        "    model = ARIMA(history, order=arima_order)\n",
        "    model_fit = model.fit()\n",
        "    yhat = model_fit.forecast()[0]\n",
        "    predictions.append(yhat)\n",
        "    history.append(test[t])\n",
        "  # calculate out of sample error\n",
        "  rmse = sqrt(mean_squared_error(test, predictions))\n",
        "  return rmse\n",
        " \n",
        "# evaluate combinations of p, d and q values for an ARIMA model\n",
        "def evaluate_models(dataset, p_values, d_values, q_values):\n",
        "\tdataset = dataset.astype('float32')\n",
        "\tbest_score, best_cfg = float(\"inf\"), None\n",
        "\tfor p in p_values:\n",
        "\t\tfor d in d_values:\n",
        "\t\t\tfor q in q_values:\n",
        "\t\t\t\torder = (p,d,q)\n",
        "\t\t\t\ttry:\n",
        "\t\t\t\t\trmse = evaluate_arima_model(dataset, order)\n",
        "\t\t\t\t\tif rmse < best_score:\n",
        "\t\t\t\t\t\tbest_score, best_cfg = rmse, order\n",
        "\t\t\t\t\tprint('ARIMA%s RMSE=%.3f' % (order,rmse))\n",
        "\t\t\t\texcept:\n",
        "\t\t\t\t\tcontinue\n",
        "\tprint('Best ARIMA%s RMSE=%.3f' % (best_cfg, best_score))\n",
        " \n",
        "# load dataset\n",
        "series = read_csv('https://raw.githubusercontent.com/ll-cooool-j/DS-Assignment/main/Datasets/Global%2C%20only%20Date%20and%20Infected%2C%20CSV%20formatted.csv', header=0, index_col=0)\n",
        "idx = pd.date_range(\"2020-07-01\", periods=335)\n",
        "series.index = idx.to_period()\n",
        "# evaluate parameters\n",
        "p_values = range(0, 5)\n",
        "d_values = range(0, 3)\n",
        "q_values = range(0, 3)\n",
        "warnings.filterwarnings(\"ignore\")\n",
        "evaluate_models(series.values, p_values, d_values, q_values)"
      ],
      "execution_count": 3,
      "outputs": [
        {
          "output_type": "stream",
          "text": [
            "/usr/local/lib/python3.7/dist-packages/ipykernel_launcher.py:6: FutureWarning: The pandas.datetime class is deprecated and will be removed from pandas in a future version. Import from datetime module instead.\n",
            "  \n",
            "/usr/local/lib/python3.7/dist-packages/statsmodels/tools/_testing.py:19: FutureWarning: pandas.util.testing is deprecated. Use the functions in the public API at pandas.testing instead.\n",
            "  import pandas.util.testing as tm\n"
          ],
          "name": "stderr"
        },
        {
          "output_type": "stream",
          "text": [
            "ARIMA(0, 0, 0) RMSE=22593431.299\n",
            "ARIMA(0, 0, 1) RMSE=11505430.883\n",
            "ARIMA(0, 1, 0) RMSE=421491.418\n",
            "ARIMA(0, 1, 1) RMSE=486638.546\n",
            "ARIMA(0, 1, 2) RMSE=641896.171\n",
            "ARIMA(0, 2, 0) RMSE=564718.738\n",
            "ARIMA(1, 0, 0) RMSE=458535.633\n",
            "ARIMA(1, 1, 0) RMSE=436757.651\n",
            "ARIMA(1, 2, 0) RMSE=905609.925\n",
            "ARIMA(2, 0, 0) RMSE=511741.414\n",
            "Best ARIMA(0, 1, 0) RMSE=421491.418\n"
          ],
          "name": "stdout"
        }
      ]
    },
    {
      "cell_type": "code",
      "metadata": {
        "colab": {
          "base_uri": "https://localhost:8080/",
          "height": 963
        },
        "id": "dWdLOUhtQ0i3",
        "outputId": "e8a3021a-7cd2-4fc8-869d-209cffb36a57"
      },
      "source": [
        "# fit an ARIMA model and plot residual errors\n",
        "from datetime import datetime\n",
        "from pandas import read_csv\n",
        "from pandas import DataFrame\n",
        "from statsmodels.tsa.arima_model import ARIMA\n",
        "from matplotlib import pyplot\n",
        "# fit model\n",
        "series = series.astype('float64')\n",
        "model = ARIMA(series, order=(0,1,0))\n",
        "model_fit = model.fit()\n",
        "# summary of fit model\n",
        "print(model_fit.summary())\n",
        "# line plot of residuals\n",
        "residuals = DataFrame(model_fit.resid)\n",
        "residuals.plot()\n",
        "pyplot.show()\n",
        "# density plot of residuals\n",
        "residuals.plot(kind='kde')\n",
        "pyplot.show()\n",
        "# summary stats of residuals\n",
        "print(residuals.describe())"
      ],
      "execution_count": 10,
      "outputs": [
        {
          "output_type": "stream",
          "text": [
            "                             ARIMA Model Results                              \n",
            "==============================================================================\n",
            "Dep. Variable:             D.Infected   No. Observations:                  334\n",
            "Model:                 ARIMA(0, 1, 0)   Log Likelihood               -4762.326\n",
            "Method:                           css   S.D. of innovations         376819.820\n",
            "Date:                Fri, 09 Jul 2021   AIC                           9528.652\n",
            "Time:                        09:09:56   BIC                           9536.274\n",
            "Sample:                             1   HQIC                          9531.691\n",
            "                                                                              \n",
            "==============================================================================\n",
            "                 coef    std err          z      P>|z|      [0.025      0.975]\n",
            "------------------------------------------------------------------------------\n",
            "const       1.624e+05   2.06e+04      7.876      0.000    1.22e+05    2.03e+05\n",
            "==============================================================================\n"
          ],
          "name": "stdout"
        },
        {
          "output_type": "display_data",
          "data": {
            "image/png": "[encoded data removed]",
            "text/plain": [
              "<Figure size 432x288 with 1 Axes>"
            ]
          },
          "metadata": {
            "tags": [],
            "needs_background": "light"
          }
        },
        {
          "output_type": "display_data",
          "data": {
            "image/png": "[encoded data removed]",
            "text/plain": [
              "<Figure size 432x288 with 1 Axes>"
            ]
          },
          "metadata": {
            "tags": [],
            "needs_background": "light"
          }
        },
        {
          "output_type": "stream",
          "text": [
            "                  0\n",
            "count  3.340000e+02\n",
            "mean   1.387224e-10\n",
            "std    3.773852e+05\n",
            "min   -1.042911e+06\n",
            "25%   -1.043764e+05\n",
            "50%   -3.054590e+04\n",
            "75%    7.397610e+04\n",
            "max    6.343331e+06\n"
          ],
          "name": "stdout"
        }
      ]
    },
    {
      "cell_type": "code",
      "metadata": {
        "colab": {
          "base_uri": "https://localhost:8080/",
          "height": 1000
        },
        "id": "m6KgFtogQglC",
        "outputId": "e906210d-89cf-4570-cfab-a35f308fb87a"
      },
      "source": [
        "# evaluate an ARIMA model using a walk-forward validation\n",
        "from pandas import read_csv\n",
        "from pandas import datetime\n",
        "from matplotlib import pyplot\n",
        "from statsmodels.tsa.arima_model import ARIMA\n",
        "from sklearn.metrics import mean_squared_error\n",
        "from math import sqrt\n",
        "import numpy as np\n",
        "import itertools\n",
        "from itertools import chain\n",
        "X = series.values.astype('float64')\n",
        "# prepare training dataset\n",
        "train_size= int(len(X) * 0.2)\n",
        "point = int(len(X) * 0.8)\n",
        "train, test = X[0:train_size], X[point:]\n",
        "history = [x for x in train]\n",
        "predictions = list()\n",
        "# walk-forward validation\n",
        "for t in range(len(test)):\n",
        "\tmodel = ARIMA(history, order=(0,1,0))\n",
        "\tmodel_fit = model.fit()\n",
        "\toutput = model_fit.forecast()\n",
        "\tyhat = output[0]\n",
        "\tpredictions.append(yhat)\n",
        "\tobs = test[t]\n",
        "\thistory.append(obs)\n",
        "\tprint('predicted=%f, expected=%f' % (yhat, obs))\n",
        "# evaluate forecasts\n",
        "rmse = sqrt(mean_squared_error(test, predictions))\n",
        "print('Test RMSE: %.3f' % rmse)\n",
        "# plot forecasts against actual outcomes\n",
        "pyplot.plot(test)\n",
        "pyplot.plot(predictions, color='red')\n",
        "pyplot.show()"
      ],
      "execution_count": 14,
      "outputs": [
        {
          "output_type": "stream",
          "text": [
            "predicted=8111982.030303, expected=51816229.000000\n",
            "predicted=52519972.223881, expected=52085584.000000\n",
            "predicted=52782939.161765, expected=52219637.000000\n",
            "predicted=52908828.362319, expected=52364998.000000\n",
            "predicted=53046420.357143, expected=52586110.000000\n",
            "predicted=53261049.112676, expected=52873692.000000\n",
            "predicted=53543251.152778, expected=53228352.000000\n",
            "predicted=53893597.465753, expected=53531259.000000\n",
            "predicted=54191608.000000, expected=53685760.000000\n",
            "predicted=54339364.360000, expected=53883147.000000\n",
            "predicted=54530748.500000, expected=54016912.000000\n",
            "predicted=54657840.298701, expected=54238529.000000\n",
            "predicted=54874081.512821, expected=54424199.000000\n",
            "predicted=55054056.797468, expected=54853961.000000\n",
            "predicted=55481317.600000, expected=55134410.000000\n",
            "predicted=55757483.790123, expected=55401224.000000\n",
            "predicted=56019953.158537, expected=55552240.000000\n",
            "predicted=56165334.060241, expected=55764111.000000\n",
            "predicted=56372428.595238, expected=56043461.000000\n",
            "predicted=56647908.388235, expected=56399535.000000\n",
            "predicted=57001094.325581, expected=56758235.000000\n",
            "predicted=57357002.839080, expected=57095784.000000\n",
            "predicted=57691583.443182, expected=57352911.000000\n",
            "predicted=57944905.134831, expected=57449251.000000\n",
            "predicted=58035737.866667, expected=57596595.000000\n",
            "predicted=58178256.120879, expected=57831538.000000\n",
            "predicted=58409430.445652, expected=58194257.000000\n",
            "predicted=58769835.752688, expected=58443835.000000\n",
            "predicted=59015945.659574, expected=58692564.000000\n",
            "predicted=59261270.642105, expected=58924054.000000\n",
            "predicted=59489247.968750, expected=59102268.000000\n",
            "predicted=59663472.484536, expected=59085910.000000\n",
            "predicted=59641220.989796, expected=59234498.000000\n",
            "predicted=59785700.676768, expected=59527791.000000\n",
            "predicted=60076414.580000, expected=59702374.000000\n",
            "predicted=60247294.207921, expected=59880772.000000\n",
            "predicted=60422098.852941, expected=59981815.000000\n",
            "predicted=60518867.252427, expected=59953161.000000\n",
            "predicted=60484773.769231, expected=59979392.000000\n",
            "predicted=60506191.609524, expected=60115847.000000\n",
            "predicted=60638964.113208, expected=60228683.000000\n",
            "predicted=60747965.710280, expected=60408429.000000\n",
            "predicted=60924567.851852, expected=60530309.000000\n",
            "predicted=61042830.798165, expected=60591732.000000\n",
            "predicted=61100152.900000, expected=60560307.000000\n",
            "predicted=61063864.423423, expected=60542331.000000\n",
            "predicted=61041231.875000, expected=60515550.000000\n",
            "predicted=61009798.823009, expected=60614205.000000\n",
            "predicted=61104983.701754, expected=60635665.000000\n",
            "predicted=61122362.669565, expected=60675274.000000\n",
            "predicted=61158117.456897, expected=60648551.000000\n",
            "predicted=61127039.188034, expected=60519695.000000\n",
            "predicted=60993036.203390, expected=60304056.000000\n",
            "predicted=60771607.453782, expected=60169263.000000\n",
            "predicted=60631794.916667, expected=60129285.000000\n",
            "predicted=60587663.942149, expected=59759488.000000\n",
            "predicted=60211078.614754, expected=59757710.000000\n",
            "predicted=60205614.691057, expected=59707614.000000\n",
            "predicted=60151502.556452, expected=59672422.000000\n",
            "predicted=60112477.912000, expected=59490318.000000\n",
            "predicted=59925436.134921, expected=59432250.000000\n",
            "predicted=59863484.779528, expected=59432285.000000\n",
            "predicted=59860151.031250, expected=59276607.000000\n",
            "predicted=59699949.434109, expected=59209970.000000\n",
            "predicted=59629543.361538, expected=59172933.000000\n",
            "predicted=59589020.786260, expected=59066308.000000\n",
            "predicted=59478435.840909, expected=58907332.000000\n",
            "Test RMSE: 5358536.812\n"
          ],
          "name": "stdout"
        },
        {
          "output_type": "display_data",
          "data": {
            "image/png": "[encoded data removed]",
            "text/plain": [
              "<Figure size 432x288 with 1 Axes>"
            ]
          },
          "metadata": {
            "tags": [],
            "needs_background": "light"
          }
        }
      ]
    }
  ]
}